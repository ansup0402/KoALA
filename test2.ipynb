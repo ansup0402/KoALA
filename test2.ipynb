{
 "cells": [
  {
   "cell_type": "code",
   "execution_count": 349,
   "metadata": {},
   "outputs": [],
   "source": [
    "import pandas as pd"
   ]
  },
  {
   "cell_type": "code",
   "execution_count": 401,
   "metadata": {},
   "outputs": [],
   "source": [
    "df = pd.read_csv('temp/anal_AllPotenSOC_network.csv')"
   ]
  },
  {
   "cell_type": "code",
   "execution_count": 402,
   "metadata": {},
   "outputs": [
    {
     "data": {
      "text/html": [
       "<div>\n",
       "<style scoped>\n",
       "    .dataframe tbody tr th:only-of-type {\n",
       "        vertical-align: middle;\n",
       "    }\n",
       "\n",
       "    .dataframe tbody tr th {\n",
       "        vertical-align: top;\n",
       "    }\n",
       "\n",
       "    .dataframe thead th {\n",
       "        text-align: right;\n",
       "    }\n",
       "</style>\n",
       "<table border=\"1\" class=\"dataframe\">\n",
       "  <thead>\n",
       "    <tr style=\"text-align: right;\">\n",
       "      <th></th>\n",
       "      <th>Unnamed: 0</th>\n",
       "      <th>NODE_KEY</th>\n",
       "      <th>EQ_SCORE</th>\n",
       "    </tr>\n",
       "  </thead>\n",
       "  <tbody>\n",
       "    <tr>\n",
       "      <th>0</th>\n",
       "      <td>0</td>\n",
       "      <td>545596</td>\n",
       "      <td>669988336</td>\n",
       "    </tr>\n",
       "    <tr>\n",
       "      <th>1</th>\n",
       "      <td>1</td>\n",
       "      <td>535348</td>\n",
       "      <td>669988336</td>\n",
       "    </tr>\n",
       "    <tr>\n",
       "      <th>2</th>\n",
       "      <td>2</td>\n",
       "      <td>536731</td>\n",
       "      <td>669988336</td>\n",
       "    </tr>\n",
       "    <tr>\n",
       "      <th>3</th>\n",
       "      <td>3</td>\n",
       "      <td>536825</td>\n",
       "      <td>666563698</td>\n",
       "    </tr>\n",
       "    <tr>\n",
       "      <th>4</th>\n",
       "      <td>4</td>\n",
       "      <td>536307</td>\n",
       "      <td>671634206</td>\n",
       "    </tr>\n",
       "  </tbody>\n",
       "</table>\n",
       "</div>"
      ],
      "text/plain": [
       "   Unnamed: 0  NODE_KEY   EQ_SCORE\n",
       "0           0    545596  669988336\n",
       "1           1    535348  669988336\n",
       "2           2    536731  669988336\n",
       "3           3    536825  666563698\n",
       "4           4    536307  671634206"
      ]
     },
     "execution_count": 402,
     "metadata": {},
     "output_type": "execute_result"
    }
   ],
   "source": [
    "df.head()"
   ]
  },
  {
   "cell_type": "code",
   "execution_count": null,
   "metadata": {},
   "outputs": [],
   "source": []
  },
  {
   "cell_type": "code",
   "execution_count": 403,
   "metadata": {},
   "outputs": [],
   "source": [
    "numofclfy = 10"
   ]
  },
  {
   "cell_type": "code",
   "execution_count": null,
   "metadata": {},
   "outputs": [],
   "source": []
  },
  {
   "cell_type": "code",
   "execution_count": 404,
   "metadata": {},
   "outputs": [
    {
     "data": {
      "text/plain": [
       "[0.0, 10.0, 20.0, 30.0, 40.0, 50.0, 60.0, 70.0, 80.0, 90.0, 100.0]"
      ]
     },
     "execution_count": 404,
     "metadata": {},
     "output_type": "execute_result"
    }
   ],
   "source": [
    "# x = [a*step for a in reversed(range(0, numofclfy + 1))]\n",
    "x = [a*step for a in range(0, numofclfy + 1)]\n",
    "x"
   ]
  },
  {
   "cell_type": "code",
   "execution_count": 405,
   "metadata": {},
   "outputs": [],
   "source": [
    "# distscore = dict(zip(df['OBJECTID'].tolist(), df['ACC_SCORE'].tolist())) "
   ]
  },
  {
   "cell_type": "code",
   "execution_count": 406,
   "metadata": {},
   "outputs": [],
   "source": [
    "import numpy as np\n"
   ]
  },
  {
   "cell_type": "code",
   "execution_count": 407,
   "metadata": {},
   "outputs": [
    {
     "data": {
      "text/plain": [
       "array([6.04797585e+08, 6.57748109e+08, 6.65921318e+08, 6.69988336e+08,\n",
       "       6.69988336e+08, 6.69988336e+08, 6.69988336e+08, 6.69988336e+08,\n",
       "       6.70059864e+08, 6.72398023e+08, 6.80138500e+08])"
      ]
     },
     "execution_count": 407,
     "metadata": {},
     "output_type": "execute_result"
    }
   ],
   "source": [
    "scorefield = 'EQ_SCORE'\n",
    "clsfy = np.nanpercentile(df[scorefield], x, interpolation='linear')\n",
    "clsfy"
   ]
  },
  {
   "cell_type": "code",
   "execution_count": 408,
   "metadata": {},
   "outputs": [
    {
     "data": {
      "text/plain": [
       "array([6.04797584e+08, 6.57748109e+08, 6.65921318e+08, 6.69988336e+08,\n",
       "       6.69988336e+08, 6.69988336e+08, 6.69988336e+08, 6.69988336e+08,\n",
       "       6.70059864e+08, 6.72398023e+08, 6.80138501e+08])"
      ]
     },
     "execution_count": 408,
     "metadata": {},
     "output_type": "execute_result"
    }
   ],
   "source": [
    "clsfy[len(clsfy)-1] = df[scorefield].max(skipna=True) + 1\n",
    "clsfy[0] = df[scorefield].min(skipna=True) -1\n",
    "# clsfy[0] = df[scorefield].max(skipna=True) + 1\n",
    "# clsfy[len(clsfy)-1] = df[scorefield].min(skipna=True) -1\n",
    "clsfy\n",
    "\n",
    "\n",
    "\n"
   ]
  },
  {
   "cell_type": "code",
   "execution_count": null,
   "metadata": {},
   "outputs": [],
   "source": []
  },
  {
   "cell_type": "code",
   "execution_count": null,
   "metadata": {},
   "outputs": [],
   "source": []
  },
  {
   "cell_type": "code",
   "execution_count": 413,
   "metadata": {},
   "outputs": [
    {
     "name": "stdout",
     "output_type": "stream",
     "text": [
      "604797584.0 < 1 <= 657748109.1999999\n",
      "657748109.1999999 < 2 <= 665921318.4\n",
      "665921318.4 < 3 <= 669988336.0\n",
      "669988336.0 < 8 <= 670059863.8000001\n",
      "670059863.8000001 < 9 <= 672398023.0\n",
      "672398023.0 < 10 <= 680138501.0\n"
     ]
    }
   ],
   "source": [
    "i = 0\n",
    "prevalue = None\n",
    "for gradeval in clsfy:\n",
    "    if prevalue is not None:\n",
    "        if prevalue != gradeval:\n",
    "            # 클수록 좋은 점수일 경우\n",
    "#             print('{} > {} >= {}'.format(prevalue, i, gradeval))\n",
    "#             df.loc[(prevalue > df['EF_SCORE']) & (df['EF_SCORE'] >= gradeval), 'EQ_GRADE'] = i\n",
    "            # 작을수록 좋은 점수일 경우\n",
    "            print('{} < {} <= {}'.format(prevalue, i, gradeval))\n",
    "            df.loc[(prevalue < df[scorefield]) & (df[scorefield] <= gradeval), 'GRADE'] = i\n",
    "    prevalue = gradeval\n",
    "    pregrade = i\n",
    "    i += 1"
   ]
  },
  {
   "cell_type": "code",
   "execution_count": 416,
   "metadata": {},
   "outputs": [
    {
     "data": {
      "text/html": [
       "<div>\n",
       "<style scoped>\n",
       "    .dataframe tbody tr th:only-of-type {\n",
       "        vertical-align: middle;\n",
       "    }\n",
       "\n",
       "    .dataframe tbody tr th {\n",
       "        vertical-align: top;\n",
       "    }\n",
       "\n",
       "    .dataframe thead th {\n",
       "        text-align: right;\n",
       "    }\n",
       "</style>\n",
       "<table border=\"1\" class=\"dataframe\">\n",
       "  <thead>\n",
       "    <tr style=\"text-align: right;\">\n",
       "      <th></th>\n",
       "      <th>Unnamed: 0</th>\n",
       "      <th>NODE_KEY</th>\n",
       "      <th>EQ_SCORE</th>\n",
       "      <th>GRADE</th>\n",
       "    </tr>\n",
       "  </thead>\n",
       "  <tbody>\n",
       "    <tr>\n",
       "      <th>0</th>\n",
       "      <td>0</td>\n",
       "      <td>545596</td>\n",
       "      <td>669988336</td>\n",
       "      <td>3.0</td>\n",
       "    </tr>\n",
       "    <tr>\n",
       "      <th>1</th>\n",
       "      <td>1</td>\n",
       "      <td>535348</td>\n",
       "      <td>669988336</td>\n",
       "      <td>3.0</td>\n",
       "    </tr>\n",
       "    <tr>\n",
       "      <th>2</th>\n",
       "      <td>2</td>\n",
       "      <td>536731</td>\n",
       "      <td>669988336</td>\n",
       "      <td>3.0</td>\n",
       "    </tr>\n",
       "    <tr>\n",
       "      <th>3</th>\n",
       "      <td>3</td>\n",
       "      <td>536825</td>\n",
       "      <td>666563698</td>\n",
       "      <td>3.0</td>\n",
       "    </tr>\n",
       "    <tr>\n",
       "      <th>4</th>\n",
       "      <td>4</td>\n",
       "      <td>536307</td>\n",
       "      <td>671634206</td>\n",
       "      <td>9.0</td>\n",
       "    </tr>\n",
       "  </tbody>\n",
       "</table>\n",
       "</div>"
      ],
      "text/plain": [
       "   Unnamed: 0  NODE_KEY   EQ_SCORE  GRADE\n",
       "0           0    545596  669988336    3.0\n",
       "1           1    535348  669988336    3.0\n",
       "2           2    536731  669988336    3.0\n",
       "3           3    536825  666563698    3.0\n",
       "4           4    536307  671634206    9.0"
      ]
     },
     "execution_count": 416,
     "metadata": {},
     "output_type": "execute_result"
    }
   ],
   "source": [
    "df.head()"
   ]
  },
  {
   "cell_type": "code",
   "execution_count": 421,
   "metadata": {},
   "outputs": [
    {
     "data": {
      "text/html": [
       "<div>\n",
       "<style scoped>\n",
       "    .dataframe tbody tr th:only-of-type {\n",
       "        vertical-align: middle;\n",
       "    }\n",
       "\n",
       "    .dataframe tbody tr th {\n",
       "        vertical-align: top;\n",
       "    }\n",
       "\n",
       "    .dataframe thead th {\n",
       "        text-align: right;\n",
       "    }\n",
       "</style>\n",
       "<table border=\"1\" class=\"dataframe\">\n",
       "  <thead>\n",
       "    <tr style=\"text-align: right;\">\n",
       "      <th></th>\n",
       "      <th>Unnamed: 0</th>\n",
       "      <th>NODE_KEY</th>\n",
       "      <th>EQ_SCORE</th>\n",
       "      <th>GRADE</th>\n",
       "    </tr>\n",
       "  </thead>\n",
       "  <tbody>\n",
       "  </tbody>\n",
       "</table>\n",
       "</div>"
      ],
      "text/plain": [
       "Empty DataFrame\n",
       "Columns: [Unnamed: 0, NODE_KEY, EQ_SCORE, GRADE]\n",
       "Index: []"
      ]
     },
     "execution_count": 421,
     "metadata": {},
     "output_type": "execute_result"
    }
   ],
   "source": [
    "df.loc[df.GRADE == None]"
   ]
  },
  {
   "cell_type": "code",
   "execution_count": 180,
   "metadata": {},
   "outputs": [
    {
     "name": "stdout",
     "output_type": "stream",
     "text": [
      "1 0.0 1\n",
      "1 0.0 1\n",
      "1 0.0 1\n",
      "1 0.0 1\n",
      "5 420.02260015541316 1\n",
      "6 625.5141452016976 5\n",
      "7 789.1765163292531 6\n",
      "8 929.2127284968794 7\n",
      "9 1266.748956986295 8\n",
      "10 1706.0252708400674 9\n",
      "11 4453.372369364163 10\n"
     ]
    }
   ],
   "source": [
    "i = 0\n",
    "\n",
    "prevalue = 0\n",
    "pregrade = 1\n",
    "for gradeval in clsfy:\n",
    "    i += 1\n",
    "    if prevalue == gradeval:\n",
    "        curgrade = pregrade\n",
    "    else:\n",
    "        curgrade = i \n",
    "#     if > 0: /\n",
    "    print(curgrade, gradeval, pregrade)\n",
    "#     if i > 0 and curgrade != pregrade:\n",
    "#         print('{} < {} <= {}'.format(gradeval, curgrade, gradeval))\n",
    "    \n",
    "    if curgrade != pregrade:\n",
    "        prevalue = pregrade\n",
    "        pregrade = i"
   ]
  },
  {
   "cell_type": "code",
   "execution_count": 191,
   "metadata": {},
   "outputs": [
    {
     "name": "stdout",
     "output_type": "stream",
     "text": [
      "0 < 1 <= 0.0\n",
      "0 < 1 <= 0.0\n",
      "0 < 1 <= 0.0\n",
      "0 < 1 <= 0.0\n",
      "0 < 5 <= 420.02260015541316\n",
      "420.02260015541316 < 6 <= 625.5141452016976\n",
      "625.5141452016976 < 7 <= 789.1765163292531\n",
      "789.1765163292531 < 8 <= 929.2127284968794\n",
      "929.2127284968794 < 9 <= 1266.748956986295\n",
      "1266.748956986295 < 10 <= 1706.0252708400674\n",
      "1706.0252708400674 < 11 <= 4453.372369364163\n"
     ]
    }
   ],
   "source": [
    "i = 0\n",
    "\n",
    "prevalue = 0\n",
    "pregrade = 1\n",
    "for gradeval in clsfy:\n",
    "    i += 1\n",
    "    if prevalue == gradeval:\n",
    "        curgrade = pregrade\n",
    "    else:\n",
    "        curgrade = i \n",
    "\n",
    "    if i > 0:\n",
    "#         if curgrade != pregrade:\n",
    "        print('{} < {} <= {}'.format(prevalue, curgrade, gradeval))\n",
    "    \n",
    "    if curgrade != pregrade:\n",
    "        prevalue = gradeval\n",
    "        pregrade = i"
   ]
  },
  {
   "cell_type": "code",
   "execution_count": null,
   "metadata": {},
   "outputs": [],
   "source": []
  },
  {
   "cell_type": "code",
   "execution_count": null,
   "metadata": {},
   "outputs": [],
   "source": []
  },
  {
   "cell_type": "code",
   "execution_count": null,
   "metadata": {},
   "outputs": [],
   "source": []
  },
  {
   "cell_type": "code",
   "execution_count": null,
   "metadata": {},
   "outputs": [],
   "source": []
  },
  {
   "cell_type": "code",
   "execution_count": null,
   "metadata": {},
   "outputs": [],
   "source": []
  },
  {
   "cell_type": "code",
   "execution_count": null,
   "metadata": {},
   "outputs": [],
   "source": []
  },
  {
   "cell_type": "code",
   "execution_count": null,
   "metadata": {},
   "outputs": [],
   "source": [
    "df['qcut'] = pd.qcut(df['val'], int(len(df)/4), duplicates='drop', labels=False)"
   ]
  },
  {
   "cell_type": "code",
   "execution_count": null,
   "metadata": {},
   "outputs": [],
   "source": [
    "df"
   ]
  },
  {
   "cell_type": "code",
   "execution_count": 126,
   "metadata": {},
   "outputs": [
    {
     "data": {
      "text/html": [
       "<div>\n",
       "<style scoped>\n",
       "    .dataframe tbody tr th:only-of-type {\n",
       "        vertical-align: middle;\n",
       "    }\n",
       "\n",
       "    .dataframe tbody tr th {\n",
       "        vertical-align: top;\n",
       "    }\n",
       "\n",
       "    .dataframe thead th {\n",
       "        text-align: right;\n",
       "    }\n",
       "</style>\n",
       "<table border=\"1\" class=\"dataframe\">\n",
       "  <thead>\n",
       "    <tr style=\"text-align: right;\">\n",
       "      <th></th>\n",
       "      <th>id</th>\n",
       "      <th>val</th>\n",
       "      <th>qcut</th>\n",
       "    </tr>\n",
       "  </thead>\n",
       "  <tbody>\n",
       "    <tr>\n",
       "      <th>0.25</th>\n",
       "      <td>13.25</td>\n",
       "      <td>0.0</td>\n",
       "      <td>0.0</td>\n",
       "    </tr>\n",
       "    <tr>\n",
       "      <th>0.50</th>\n",
       "      <td>25.50</td>\n",
       "      <td>3.0</td>\n",
       "      <td>0.0</td>\n",
       "    </tr>\n",
       "    <tr>\n",
       "      <th>0.75</th>\n",
       "      <td>37.75</td>\n",
       "      <td>4.0</td>\n",
       "      <td>1.0</td>\n",
       "    </tr>\n",
       "    <tr>\n",
       "      <th>1.00</th>\n",
       "      <td>50.00</td>\n",
       "      <td>8.0</td>\n",
       "      <td>3.0</td>\n",
       "    </tr>\n",
       "  </tbody>\n",
       "</table>\n",
       "</div>"
      ],
      "text/plain": [
       "         id  val  qcut\n",
       "0.25  13.25  0.0   0.0\n",
       "0.50  25.50  3.0   0.0\n",
       "0.75  37.75  4.0   1.0\n",
       "1.00  50.00  8.0   3.0"
      ]
     },
     "execution_count": 126,
     "metadata": {},
     "output_type": "execute_result"
    }
   ],
   "source": [
    "df.quantile([0.25, 0.5, 0.75, 1], numeric_only=False)"
   ]
  },
  {
   "cell_type": "code",
   "execution_count": 127,
   "metadata": {},
   "outputs": [
    {
     "data": {
      "text/html": [
       "<div>\n",
       "<style scoped>\n",
       "    .dataframe tbody tr th:only-of-type {\n",
       "        vertical-align: middle;\n",
       "    }\n",
       "\n",
       "    .dataframe tbody tr th {\n",
       "        vertical-align: top;\n",
       "    }\n",
       "\n",
       "    .dataframe thead th {\n",
       "        text-align: right;\n",
       "    }\n",
       "</style>\n",
       "<table border=\"1\" class=\"dataframe\">\n",
       "  <thead>\n",
       "    <tr style=\"text-align: right;\">\n",
       "      <th></th>\n",
       "      <th>id</th>\n",
       "      <th>val</th>\n",
       "      <th>qcut</th>\n",
       "    </tr>\n",
       "  </thead>\n",
       "  <tbody>\n",
       "    <tr>\n",
       "      <th>0.25</th>\n",
       "      <td>13.25</td>\n",
       "      <td>0.0</td>\n",
       "      <td>0.0</td>\n",
       "    </tr>\n",
       "    <tr>\n",
       "      <th>0.50</th>\n",
       "      <td>25.50</td>\n",
       "      <td>3.0</td>\n",
       "      <td>0.0</td>\n",
       "    </tr>\n",
       "    <tr>\n",
       "      <th>0.75</th>\n",
       "      <td>37.75</td>\n",
       "      <td>4.0</td>\n",
       "      <td>1.0</td>\n",
       "    </tr>\n",
       "    <tr>\n",
       "      <th>1.00</th>\n",
       "      <td>50.00</td>\n",
       "      <td>8.0</td>\n",
       "      <td>3.0</td>\n",
       "    </tr>\n",
       "  </tbody>\n",
       "</table>\n",
       "</div>"
      ],
      "text/plain": [
       "         id  val  qcut\n",
       "0.25  13.25  0.0   0.0\n",
       "0.50  25.50  3.0   0.0\n",
       "0.75  37.75  4.0   1.0\n",
       "1.00  50.00  8.0   3.0"
      ]
     },
     "execution_count": 127,
     "metadata": {},
     "output_type": "execute_result"
    }
   ],
   "source": [
    "df.quantile([0.25, 0.5, 0.75, 1], numeric_only=True)"
   ]
  },
  {
   "cell_type": "code",
   "execution_count": null,
   "metadata": {},
   "outputs": [],
   "source": []
  },
  {
   "cell_type": "code",
   "execution_count": 3,
   "metadata": {},
   "outputs": [],
   "source": [
    "df = pd.read_csv('temp/anal_AllPotenSOC_network.csv')"
   ]
  },
  {
   "cell_type": "code",
   "execution_count": 7,
   "metadata": {},
   "outputs": [
    {
     "data": {
      "text/html": [
       "<div>\n",
       "<style scoped>\n",
       "    .dataframe tbody tr th:only-of-type {\n",
       "        vertical-align: middle;\n",
       "    }\n",
       "\n",
       "    .dataframe tbody tr th {\n",
       "        vertical-align: top;\n",
       "    }\n",
       "\n",
       "    .dataframe thead th {\n",
       "        text-align: right;\n",
       "    }\n",
       "</style>\n",
       "<table border=\"1\" class=\"dataframe\">\n",
       "  <thead>\n",
       "    <tr style=\"text-align: right;\">\n",
       "      <th></th>\n",
       "      <th>Unnamed: 0</th>\n",
       "      <th>NODE_KEY</th>\n",
       "      <th>EQ_SCORE</th>\n",
       "    </tr>\n",
       "  </thead>\n",
       "  <tbody>\n",
       "    <tr>\n",
       "      <th>0</th>\n",
       "      <td>0</td>\n",
       "      <td>536350</td>\n",
       "      <td>1282131825</td>\n",
       "    </tr>\n",
       "    <tr>\n",
       "      <th>1</th>\n",
       "      <td>1</td>\n",
       "      <td>536350</td>\n",
       "      <td>1282131825</td>\n",
       "    </tr>\n",
       "    <tr>\n",
       "      <th>2</th>\n",
       "      <td>2</td>\n",
       "      <td>544669</td>\n",
       "      <td>1282131825</td>\n",
       "    </tr>\n",
       "    <tr>\n",
       "      <th>3</th>\n",
       "      <td>3</td>\n",
       "      <td>528598</td>\n",
       "      <td>1282131825</td>\n",
       "    </tr>\n",
       "    <tr>\n",
       "      <th>4</th>\n",
       "      <td>4</td>\n",
       "      <td>532963</td>\n",
       "      <td>1282131825</td>\n",
       "    </tr>\n",
       "  </tbody>\n",
       "</table>\n",
       "</div>"
      ],
      "text/plain": [
       "   Unnamed: 0  NODE_KEY    EQ_SCORE\n",
       "0           0    536350  1282131825\n",
       "1           1    536350  1282131825\n",
       "2           2    544669  1282131825\n",
       "3           3    528598  1282131825\n",
       "4           4    532963  1282131825"
      ]
     },
     "execution_count": 7,
     "metadata": {},
     "output_type": "execute_result"
    }
   ],
   "source": [
    "df.head(5)"
   ]
  },
  {
   "cell_type": "code",
   "execution_count": 25,
   "metadata": {},
   "outputs": [
    {
     "data": {
      "text/plain": [
       "0      2\n",
       "1      2\n",
       "2      2\n",
       "3      2\n",
       "4      2\n",
       "      ..\n",
       "99     5\n",
       "100    5\n",
       "101    2\n",
       "102    4\n",
       "103    2\n",
       "Name: EQ_SCORE, Length: 104, dtype: int64"
      ]
     },
     "execution_count": 25,
     "metadata": {},
     "output_type": "execute_result"
    }
   ],
   "source": [
    "pd.qcut(df['EQ_SCORE'], int(len(df)/10), duplicates='drop', labels=False)"
   ]
  },
  {
   "cell_type": "code",
   "execution_count": 29,
   "metadata": {},
   "outputs": [],
   "source": [
    "df['rank'] = pd.qcut(df['EQ_SCORE'], int(len(df)/10), duplicates='drop', labels=False)"
   ]
  },
  {
   "cell_type": "code",
   "execution_count": 31,
   "metadata": {},
   "outputs": [],
   "source": [
    "df.to_csv('temp/test.csv')"
   ]
  },
  {
   "cell_type": "code",
   "execution_count": 28,
   "metadata": {},
   "outputs": [
    {
     "data": {
      "text/plain": [
       "10"
      ]
     },
     "execution_count": 28,
     "metadata": {},
     "output_type": "execute_result"
    }
   ],
   "source": [
    "int(len(df)/10)"
   ]
  },
  {
   "cell_type": "code",
   "execution_count": null,
   "metadata": {},
   "outputs": [],
   "source": []
  }
 ],
 "metadata": {
  "kernelspec": {
   "display_name": "Python 3",
   "language": "python",
   "name": "python3"
  },
  "language_info": {
   "codemirror_mode": {
    "name": "ipython",
    "version": 3
   },
   "file_extension": ".py",
   "mimetype": "text/x-python",
   "name": "python",
   "nbconvert_exporter": "python",
   "pygments_lexer": "ipython3",
   "version": "3.6.9"
  }
 },
 "nbformat": 4,
 "nbformat_minor": 2
}
